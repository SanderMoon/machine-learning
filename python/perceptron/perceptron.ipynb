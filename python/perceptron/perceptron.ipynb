{
 "cells": [
  {
   "attachments": {},
   "cell_type": "markdown",
   "metadata": {},
   "source": [
    "# Perceptron\n",
    "This notebook provides a simple example of a simple Perceptron for binary classification"
   ]
  },
  {
   "cell_type": "code",
   "execution_count": 130,
   "metadata": {},
   "outputs": [],
   "source": [
    "import numpy as np\n",
    "import pandas as pd\n",
    "import os\n",
    "\n",
    "# Append the relative path to the file you want to read\n",
    "data_path = os.path.join(\"data\", \"iris.data\")\n",
    "# Read the CSV file\n",
    "data = pd.read_csv(data_path)\n",
    "# Convert the dataframe to a numpy matrix\n",
    "iris_data = data.values"
   ]
  },
  {
   "cell_type": "code",
   "execution_count": 131,
   "metadata": {},
   "outputs": [],
   "source": [
    "# -----------------------------\n",
    "# Label data\n",
    "# -----------------------------\n",
    "\n",
    "# Extract the labels from the dataset\n",
    "labels = iris_data[:, 4]\n",
    "\n",
    "# Create binary labels\n",
    "new_labels = np.where(labels == 'Iris-setosa', 1, -1)\n",
    "\n",
    "# Replace the fifth column of the data with the new labels\n",
    "iris_data[:, 4] = new_labels"
   ]
  },
  {
   "cell_type": "code",
   "execution_count": 132,
   "metadata": {},
   "outputs": [],
   "source": [
    "# -----------------------------\n",
    "# Data preparation\n",
    "# -----------------------------\n",
    "\n",
    "# Create a column vector of ones with the same number of rows as your input matrix\n",
    "bias_term = np.ones((iris_data.shape[0], 1))\n",
    "# Concatenate the bias column vector with the input matrix\n",
    "iris_data = np.concatenate((bias_term, iris_data), axis=1)\n",
    "\n",
    "# Get the number of rows in the data\n",
    "n_rows = iris_data.shape[0]\n",
    "\n",
    "# Get a random permutation of the indices\n",
    "indices = np.random.permutation(n_rows)\n",
    "\n",
    "# Use the first 80% of the indices for the training set\n",
    "train_indices = indices[:int(0.7 * n_rows)]\n",
    "\n",
    "# Use the remaining indices for the test set\n",
    "test_indices = indices[int(0.7 * n_rows):]\n",
    "\n",
    "# Get the training data and labels\n",
    "iris_data_train = iris_data[train_indices, :]\n",
    "labels_train = labels[train_indices]\n",
    "\n",
    "# Get the test data and labels\n",
    "iris_data_test = iris_data[test_indices, :]\n",
    "labels_test = labels[test_indices]\n"
   ]
  },
  {
   "cell_type": "code",
   "execution_count": 133,
   "metadata": {},
   "outputs": [
    {
     "name": "stdout",
     "output_type": "stream",
     "text": [
      "[0.50730894 0.36217673 0.88368387 0.99254616 0.55313862]\n"
     ]
    }
   ],
   "source": [
    "# -------------------------------\n",
    "# Initialize and train perceptron\n",
    "# -------------------------------\n",
    "\n",
    "w = np.random.rand(5)\n",
    "print(w)\n",
    "\n",
    "learning_rate = 0.001\n",
    "num_iterations = 100\n",
    "\n",
    "for i in range(num_iterations):\n",
    "    for j in range(iris_data_train.shape[0]):\n",
    "        # calculate the output of the perceptron for the current input\n",
    "        input_data = iris_data_train[j, :-1]\n",
    "        label = iris_data_train[j,-1]\n",
    "        output = np.dot(w, input_data) \n",
    "        # calculate the error\n",
    "        error = label - output\n",
    "        # update the weights\n",
    "        w = w + learning_rate * error * input_data"
   ]
  },
  {
   "cell_type": "code",
   "execution_count": 134,
   "metadata": {},
   "outputs": [
    {
     "name": "stdout",
     "output_type": "stream",
     "text": [
      "Accuracy:  1.0\n",
      "true_positives:  15\n",
      "true_negatives:  30\n",
      "false_positives:  0\n",
      "false_negatives:  0\n"
     ]
    }
   ],
   "source": [
    "# -------------------------------\n",
    "# Test perceptron\n",
    "# -------------------------------\n",
    "\n",
    "true_positives = 0\n",
    "true_negatives = 0\n",
    "false_positives = 0\n",
    "false_negatives = 0\n",
    "\n",
    "for i in range(iris_data_test.shape[0]):\n",
    "    input_data = iris_data_test[i, :-1]\n",
    "    label = iris_data_test[i, -1]\n",
    "    output = np.dot(w, input_data)\n",
    "    # 0 is the decision boundary\n",
    "    if output >= 0:\n",
    "        prediction = 1\n",
    "    else:\n",
    "        prediction = -1\n",
    "    if label == 1 and prediction == 1:\n",
    "        true_positives += 1\n",
    "    elif label == -1 and prediction == -1:\n",
    "        true_negatives += 1\n",
    "    elif label == -1 and prediction == 1:\n",
    "        false_positives += 1\n",
    "    elif label == 1 and prediction == -1:\n",
    "        false_negatives += 1\n",
    "\n",
    "#Print the results\n",
    "accuracy = (true_positives + true_negatives) / iris_data_test.shape[0]\n",
    "print(\"Accuracy: \", accuracy)\n",
    "print(\"true_positives: \", true_positives)\n",
    "print(\"true_negatives: \", true_negatives)\n",
    "print(\"false_positives: \", false_positives)\n",
    "print(\"false_negatives: \", false_negatives)"
   ]
  }
 ],
 "metadata": {
  "kernelspec": {
   "display_name": "Python 3",
   "language": "python",
   "name": "python3"
  },
  "language_info": {
   "codemirror_mode": {
    "name": "ipython",
    "version": 3
   },
   "file_extension": ".py",
   "mimetype": "text/x-python",
   "name": "python",
   "nbconvert_exporter": "python",
   "pygments_lexer": "ipython3",
   "version": "3.10.0"
  },
  "orig_nbformat": 4,
  "vscode": {
   "interpreter": {
    "hash": "26de051ba29f2982a8de78e945f0abaf191376122a1563185a90213a26c5da77"
   }
  }
 },
 "nbformat": 4,
 "nbformat_minor": 2
}
